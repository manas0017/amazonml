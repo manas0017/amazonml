{
 "cells": [
  {
   "cell_type": "code",
   "execution_count": 8,
   "metadata": {},
   "outputs": [],
   "source": [
    "from utils import download_images"
   ]
  },
  {
   "cell_type": "code",
   "execution_count": 9,
   "metadata": {},
   "outputs": [],
   "source": [
    "import pandas as pd\n",
    "df = pd.read_csv('../train.csv')"
   ]
  },
  {
   "cell_type": "code",
   "execution_count": 10,
   "metadata": {},
   "outputs": [
    {
     "data": {
      "text/html": [
       "<div>\n",
       "<style scoped>\n",
       "    .dataframe tbody tr th:only-of-type {\n",
       "        vertical-align: middle;\n",
       "    }\n",
       "\n",
       "    .dataframe tbody tr th {\n",
       "        vertical-align: top;\n",
       "    }\n",
       "\n",
       "    .dataframe thead th {\n",
       "        text-align: right;\n",
       "    }\n",
       "</style>\n",
       "<table border=\"1\" class=\"dataframe\">\n",
       "  <thead>\n",
       "    <tr style=\"text-align: right;\">\n",
       "      <th></th>\n",
       "      <th>image_link</th>\n",
       "      <th>group_id</th>\n",
       "      <th>entity_name</th>\n",
       "      <th>entity_value</th>\n",
       "    </tr>\n",
       "  </thead>\n",
       "  <tbody>\n",
       "    <tr>\n",
       "      <th>101138</th>\n",
       "      <td>https://m.media-amazon.com/images/I/81nEfmLyyM...</td>\n",
       "      <td>630390</td>\n",
       "      <td>item_weight</td>\n",
       "      <td>1.0 kilogram</td>\n",
       "    </tr>\n",
       "    <tr>\n",
       "      <th>165563</th>\n",
       "      <td>https://m.media-amazon.com/images/I/51gz4v5BxT...</td>\n",
       "      <td>751532</td>\n",
       "      <td>width</td>\n",
       "      <td>78.0 inch</td>\n",
       "    </tr>\n",
       "    <tr>\n",
       "      <th>228235</th>\n",
       "      <td>https://m.media-amazon.com/images/I/61D2A-LxNn...</td>\n",
       "      <td>478233</td>\n",
       "      <td>height</td>\n",
       "      <td>10.1 inch</td>\n",
       "    </tr>\n",
       "    <tr>\n",
       "      <th>197996</th>\n",
       "      <td>https://m.media-amazon.com/images/I/51INxCAF0T...</td>\n",
       "      <td>943839</td>\n",
       "      <td>depth</td>\n",
       "      <td>2.88 inch</td>\n",
       "    </tr>\n",
       "    <tr>\n",
       "      <th>107574</th>\n",
       "      <td>https://m.media-amazon.com/images/I/81-zmM+W8B...</td>\n",
       "      <td>487566</td>\n",
       "      <td>item_weight</td>\n",
       "      <td>1.8 pound</td>\n",
       "    </tr>\n",
       "    <tr>\n",
       "      <th>243052</th>\n",
       "      <td>https://m.media-amazon.com/images/I/51nHF2ebjc...</td>\n",
       "      <td>970563</td>\n",
       "      <td>height</td>\n",
       "      <td>71.0 centimetre</td>\n",
       "    </tr>\n",
       "    <tr>\n",
       "      <th>202803</th>\n",
       "      <td>https://m.media-amazon.com/images/I/61+fi9MKzR...</td>\n",
       "      <td>192007</td>\n",
       "      <td>depth</td>\n",
       "      <td>2.55 inch</td>\n",
       "    </tr>\n",
       "    <tr>\n",
       "      <th>59020</th>\n",
       "      <td>https://m.media-amazon.com/images/I/51f7mBQtF7...</td>\n",
       "      <td>507988</td>\n",
       "      <td>item_weight</td>\n",
       "      <td>93.0 pound</td>\n",
       "    </tr>\n",
       "    <tr>\n",
       "      <th>215157</th>\n",
       "      <td>https://m.media-amazon.com/images/I/51pbHMuYfS...</td>\n",
       "      <td>816782</td>\n",
       "      <td>depth</td>\n",
       "      <td>120.0 centimetre</td>\n",
       "    </tr>\n",
       "    <tr>\n",
       "      <th>225702</th>\n",
       "      <td>https://m.media-amazon.com/images/I/618YCp5wl0...</td>\n",
       "      <td>810266</td>\n",
       "      <td>height</td>\n",
       "      <td>15.0 centimetre</td>\n",
       "    </tr>\n",
       "  </tbody>\n",
       "</table>\n",
       "</div>"
      ],
      "text/plain": [
       "                                               image_link  group_id  \\\n",
       "101138  https://m.media-amazon.com/images/I/81nEfmLyyM...    630390   \n",
       "165563  https://m.media-amazon.com/images/I/51gz4v5BxT...    751532   \n",
       "228235  https://m.media-amazon.com/images/I/61D2A-LxNn...    478233   \n",
       "197996  https://m.media-amazon.com/images/I/51INxCAF0T...    943839   \n",
       "107574  https://m.media-amazon.com/images/I/81-zmM+W8B...    487566   \n",
       "243052  https://m.media-amazon.com/images/I/51nHF2ebjc...    970563   \n",
       "202803  https://m.media-amazon.com/images/I/61+fi9MKzR...    192007   \n",
       "59020   https://m.media-amazon.com/images/I/51f7mBQtF7...    507988   \n",
       "215157  https://m.media-amazon.com/images/I/51pbHMuYfS...    816782   \n",
       "225702  https://m.media-amazon.com/images/I/618YCp5wl0...    810266   \n",
       "\n",
       "        entity_name      entity_value  \n",
       "101138  item_weight      1.0 kilogram  \n",
       "165563        width         78.0 inch  \n",
       "228235       height         10.1 inch  \n",
       "197996        depth         2.88 inch  \n",
       "107574  item_weight         1.8 pound  \n",
       "243052       height   71.0 centimetre  \n",
       "202803        depth         2.55 inch  \n",
       "59020   item_weight        93.0 pound  \n",
       "215157        depth  120.0 centimetre  \n",
       "225702       height   15.0 centimetre  "
      ]
     },
     "execution_count": 10,
     "metadata": {},
     "output_type": "execute_result"
    }
   ],
   "source": [
    "df_10 = df.sample(10, random_state=42)\n",
    "df_10"
   ]
  },
  {
   "cell_type": "code",
   "execution_count": 11,
   "metadata": {},
   "outputs": [],
   "source": [
    "images_links = df_10['image_link'].to_list()"
   ]
  },
  {
   "cell_type": "code",
   "execution_count": 7,
   "metadata": {},
   "outputs": [
    {
     "name": "stderr",
     "output_type": "stream",
     "text": [
      "Exception in thread Thread-7 (_handle_workers):\n",
      "Traceback (most recent call last):\n",
      "  File \"C:\\Program Files\\WindowsApps\\PythonSoftwareFoundation.Python.3.11_3.11.2544.0_x64__qbz5n2kfra8p0\\Lib\\threading.py\", line 1045, in _bootstrap_inner\n",
      "    self.run()\n",
      "  File \"C:\\Users\\manas\\AppData\\Local\\Packages\\PythonSoftwareFoundation.Python.3.11_qbz5n2kfra8p0\\LocalCache\\local-packages\\Python311\\site-packages\\ipykernel\\ipkernel.py\", line 766, in run_closure\n",
      "    _threading_Thread_run(self)\n",
      "  File \"C:\\Program Files\\WindowsApps\\PythonSoftwareFoundation.Python.3.11_3.11.2544.0_x64__qbz5n2kfra8p0\\Lib\\threading.py\", line 982, in run\n",
      "    self._target(*self._args, **self._kwargs)\n",
      "  File \"C:\\Program Files\\WindowsApps\\PythonSoftwareFoundation.Python.3.11_3.11.2544.0_x64__qbz5n2kfra8p0\\Lib\\multiprocessing\\pool.py\", line 522, in _handle_workers\n",
      "    cls._wait_for_updates(current_sentinels, change_notifier)\n",
      "  File \"C:\\Program Files\\WindowsApps\\PythonSoftwareFoundation.Python.3.11_3.11.2544.0_x64__qbz5n2kfra8p0\\Lib\\multiprocessing\\pool.py\", line 502, in _wait_for_updates\n",
      "    wait(sentinels, timeout=timeout)\n",
      "  File \"C:\\Program Files\\WindowsApps\\PythonSoftwareFoundation.Python.3.11_3.11.2544.0_x64__qbz5n2kfra8p0\\Lib\\multiprocessing\\connection.py\", line 896, in wait\n",
      "    ready_handles = _exhaustive_wait(waithandle_to_obj.keys(), timeout)\n",
      "                    ^^^^^^^^^^^^^^^^^^^^^^^^^^^^^^^^^^^^^^^^^^^^^^^^^^^\n",
      "  File \"C:\\Program Files\\WindowsApps\\PythonSoftwareFoundation.Python.3.11_3.11.2544.0_x64__qbz5n2kfra8p0\\Lib\\multiprocessing\\connection.py\", line 828, in _exhaustive_wait\n",
      "    res = _winapi.WaitForMultipleObjects(L, False, timeout)\n",
      "          ^^^^^^^^^^^^^^^^^^^^^^^^^^^^^^^^^^^^^^^^^^^^^^^^^\n",
      "ValueError: need at most 63 handles, got a sequence of length 66\n",
      "100%|██████████| 10/10 [00:02<00:00,  3.42it/s]\n"
     ]
    }
   ],
   "source": [
    "download_images(images_links, \"./sample_images\", True)"
   ]
  },
  {
   "cell_type": "code",
   "execution_count": 1,
   "metadata": {},
   "outputs": [
    {
     "name": "stdout",
     "output_type": "stream",
     "text": [
      "4.10.0\n"
     ]
    }
   ],
   "source": [
    "import cv2\n",
    "print(cv2.__version__)  # This should print the version of OpenCV installed\n"
   ]
  },
  {
   "cell_type": "code",
   "execution_count": 18,
   "metadata": {},
   "outputs": [
    {
     "name": "stdout",
     "output_type": "stream",
     "text": [
      "Error loading image with Pillow: [Errno 2] No such file or directory: 'C:\\\\Users\\\\manas\\\\OneDrive\\\\Desktop\\\\student_resource 3\\\\src\\\\image_1.png'\n"
     ]
    }
   ],
   "source": [
    "from PIL import Image\n",
    "\n",
    "image_path = 'image_1.png'  # Replace with your image file\n",
    "try:\n",
    "    img = Image.open(image_path)\n",
    "    img.show()  # Display the image if it's valid\n",
    "    print(\"Image loaded successfully with Pillow.\")\n",
    "except Exception as e:\n",
    "    print(f\"Error loading image with Pillow: {e}\")\n"
   ]
  },
  {
   "cell_type": "code",
   "execution_count": null,
   "metadata": {},
   "outputs": [],
   "source": []
  },
  {
   "cell_type": "code",
   "execution_count": null,
   "metadata": {},
   "outputs": [],
   "source": []
  },
  {
   "cell_type": "code",
   "execution_count": null,
   "metadata": {},
   "outputs": [],
   "source": []
  },
  {
   "cell_type": "code",
   "execution_count": 17,
   "metadata": {},
   "outputs": [
    {
     "ename": "FileNotFoundError",
     "evalue": "[Errno 2] No such file or directory: 'C:\\\\Users\\\\manas\\\\OneDrive\\\\Desktop\\\\student_resource 3\\\\src\\\\41hriA7iZ+L.jpg'",
     "output_type": "error",
     "traceback": [
      "\u001b[1;31m---------------------------------------------------------------------------\u001b[0m",
      "\u001b[1;31mFileNotFoundError\u001b[0m                         Traceback (most recent call last)",
      "Cell \u001b[1;32mIn[17], line 34\u001b[0m\n\u001b[0;32m     32\u001b[0m \u001b[38;5;66;03m# 1. Load and display original images\u001b[39;00m\n\u001b[0;32m     33\u001b[0m \u001b[38;5;28;01mfor\u001b[39;00m path \u001b[38;5;129;01min\u001b[39;00m image_paths:\n\u001b[1;32m---> 34\u001b[0m     img \u001b[38;5;241m=\u001b[39m \u001b[43mImage\u001b[49m\u001b[38;5;241;43m.\u001b[39;49m\u001b[43mopen\u001b[49m\u001b[43m(\u001b[49m\u001b[43mpath\u001b[49m\u001b[43m)\u001b[49m\n\u001b[0;32m     35\u001b[0m     \u001b[38;5;28;01mif\u001b[39;00m img \u001b[38;5;129;01mis\u001b[39;00m \u001b[38;5;129;01mnot\u001b[39;00m \u001b[38;5;28;01mNone\u001b[39;00m:\n\u001b[0;32m     36\u001b[0m         original_images\u001b[38;5;241m.\u001b[39mappend(img)  \u001b[38;5;66;03m# Image is loaded correctly\u001b[39;00m\n",
      "File \u001b[1;32m~\\AppData\\Local\\Packages\\PythonSoftwareFoundation.Python.3.11_qbz5n2kfra8p0\\LocalCache\\local-packages\\Python311\\site-packages\\PIL\\Image.py:3431\u001b[0m, in \u001b[0;36mopen\u001b[1;34m(fp, mode, formats)\u001b[0m\n\u001b[0;32m   3428\u001b[0m     filename \u001b[38;5;241m=\u001b[39m os\u001b[38;5;241m.\u001b[39mpath\u001b[38;5;241m.\u001b[39mrealpath(os\u001b[38;5;241m.\u001b[39mfspath(fp))\n\u001b[0;32m   3430\u001b[0m \u001b[38;5;28;01mif\u001b[39;00m filename:\n\u001b[1;32m-> 3431\u001b[0m     fp \u001b[38;5;241m=\u001b[39m \u001b[43mbuiltins\u001b[49m\u001b[38;5;241;43m.\u001b[39;49m\u001b[43mopen\u001b[49m\u001b[43m(\u001b[49m\u001b[43mfilename\u001b[49m\u001b[43m,\u001b[49m\u001b[43m \u001b[49m\u001b[38;5;124;43m\"\u001b[39;49m\u001b[38;5;124;43mrb\u001b[39;49m\u001b[38;5;124;43m\"\u001b[39;49m\u001b[43m)\u001b[49m\n\u001b[0;32m   3432\u001b[0m     exclusive_fp \u001b[38;5;241m=\u001b[39m \u001b[38;5;28;01mTrue\u001b[39;00m\n\u001b[0;32m   3433\u001b[0m \u001b[38;5;28;01melse\u001b[39;00m:\n",
      "\u001b[1;31mFileNotFoundError\u001b[0m: [Errno 2] No such file or directory: 'C:\\\\Users\\\\manas\\\\OneDrive\\\\Desktop\\\\student_resource 3\\\\src\\\\41hriA7iZ+L.jpg'"
     ]
    }
   ],
   "source": [
    "import cv2\n",
    "import os\n",
    "import pytesseract\n",
    "import numpy as np\n",
    "import matplotlib.pyplot as plt\n",
    "from PIL import Image\n",
    "\n",
    "\n",
    "# Function to display multiple images in a grid\n",
    "def display_images(images, title):\n",
    "    fig, axes = plt.subplots(2, 5, figsize=(15, 6))  # 2 rows, 5 columns\n",
    "    fig.suptitle(title, fontsize=16)\n",
    "    \n",
    "    for i, img in enumerate(images):\n",
    "        ax = axes[i // 5, i % 5]\n",
    "        ax.imshow(img, cmap='gray')\n",
    "        ax.axis('off')\n",
    "        ax.set_title(f'Image {i+1}')\n",
    "    \n",
    "    plt.tight_layout()\n",
    "    plt.show()\n",
    "\n",
    "# Initialize an array to store the images\n",
    "images = []\n",
    "\n",
    "# Define the number of images (10 in this case)\n",
    "num_images = 10\n",
    "\n",
    "# Path where the images are stored\n",
    "image_paths = [img for img in os.listdir(r'C:\\\\Users\\\\manas\\\\OneDrive\\\\Desktop\\\\student_resource 3\\\\src\\\\sample_images')]  # Assuming image_1.png, image_2.png, ...\n",
    "original_images = []\n",
    "# 1. Load and display original images\n",
    "for path in image_paths:\n",
    "    img = Image.open(path)\n",
    "    if img is not None:\n",
    "        original_images.append(img)  # Image is loaded correctly\n",
    "    else:\n",
    "        original_images.append(None) \n",
    "# original_images = images_arr\n",
    "display_images(original_images, \"Original Images\")\n",
    "\n",
    "# 2. Convert to grayscale and display\n",
    "gray_images = [cv2.cvtColor(image, cv2.COLOR_BGR2GRAY) for image in original_images]\n",
    "display_images(gray_images, \"Grayscale Images\")\n",
    "\n",
    "# 3. Apply Otsu's Binarization and display\n",
    "binary_images = [cv2.threshold(gray, 0, 255, cv2.THRESH_BINARY + cv2.THRESH_OTSU)[1] for gray in gray_images]\n",
    "display_images(binary_images, \"Binarized Images (Otsu's)\")\n",
    "\n",
    "# 4. Noise removal using Median Blur and display\n",
    "denoised_images = [cv2.medianBlur(binary, 3) for binary in binary_images]\n",
    "display_images(denoised_images, \"Denoised Images (Median Blur)\")\n",
    "\n",
    "# 5. Dilation and display\n",
    "kernel = np.ones((1, 1), np.uint8)\n",
    "dilated_images = [cv2.dilate(denoised, kernel, iterations=1) for denoised in denoised_images]\n",
    "display_images(dilated_images, \"Dilated Images\")\n",
    "\n",
    "# 6. Erosion and display\n",
    "eroded_images = [cv2.erode(dilated, kernel, iterations=1) for dilated in dilated_images]\n",
    "display_images(eroded_images, \"Eroded Images\")\n",
    "\n",
    "# 7. Skew Correction (rotation) and display\n",
    "def correct_skew(image):\n",
    "    coords = np.column_stack(np.where(image > 0))\n",
    "    angle = cv2.minAreaRect(coords)[-1]\n",
    "    if angle < -45:\n",
    "        angle = -(90 + angle)\n",
    "    else:\n",
    "        angle = -angle\n",
    "    (h, w) = image.shape[:2]\n",
    "    center = (w // 2, h // 2)\n",
    "    M = cv2.getRotationMatrix2D(center, angle, 1.0)\n",
    "    rotated = cv2.warpAffine(image, M, (w, h), flags=cv2.INTER_CUBIC, borderMode=cv2.BORDER_REPLICATE)\n",
    "    return rotated\n",
    "\n",
    "skew_corrected_images = [correct_skew(eroded) for eroded in eroded_images]\n",
    "display_images(skew_corrected_images, \"Skew Corrected Images\")\n",
    "\n",
    "# 8. Resize images (increase size for better OCR performance)\n",
    "resized_images = [cv2.resize(image, None, fx=2, fy=2, interpolation=cv2.INTER_CUBIC) for image in skew_corrected_images]\n",
    "display_images(resized_images, \"Resized Images\")\n",
    "\n",
    "# 9. Invert colors for white text on black background (optional, based on image content)\n",
    "inverted_images = [cv2.bitwise_not(image) for image in resized_images]\n",
    "display_images(inverted_images, \"Inverted Images (Optional)\")\n",
    "\n",
    "# 10. OCR Processing on each preprocessed image\n",
    "ocr_results = []\n",
    "for img in inverted_images:\n",
    "    text = pytesseract.image_to_string(img)\n",
    "    ocr_results.append(text)\n",
    "\n",
    "# Output OCR results for each image\n",
    "for idx, text in enumerate(ocr_results):\n",
    "    print(f\"Text from image {idx+1}:\\n{text}\\n\")\n"
   ]
  },
  {
   "cell_type": "code",
   "execution_count": 20,
   "metadata": {},
   "outputs": [
    {
     "ename": "PermissionError",
     "evalue": "[Errno 13] Permission denied: 'C:\\\\Users\\\\manas\\\\OneDrive\\\\Desktop\\\\student_resource 3\\\\src'",
     "output_type": "error",
     "traceback": [
      "\u001b[1;31m---------------------------------------------------------------------------\u001b[0m",
      "\u001b[1;31mPermissionError\u001b[0m                           Traceback (most recent call last)",
      "Cell \u001b[1;32mIn[20], line 8\u001b[0m\n\u001b[0;32m      5\u001b[0m \u001b[38;5;28;01mtry\u001b[39;00m:\n\u001b[0;32m      6\u001b[0m     \u001b[38;5;66;03m# Check if the file exists before opening it\u001b[39;00m\n\u001b[0;32m      7\u001b[0m     \u001b[38;5;28;01mif\u001b[39;00m os\u001b[38;5;241m.\u001b[39mpath\u001b[38;5;241m.\u001b[39mexists(file_path):\n\u001b[1;32m----> 8\u001b[0m         \u001b[38;5;28;01mwith\u001b[39;00m \u001b[38;5;28;43mopen\u001b[39;49m\u001b[43m(\u001b[49m\u001b[43mfile_path\u001b[49m\u001b[43m,\u001b[49m\u001b[43m \u001b[49m\u001b[38;5;124;43m'\u001b[39;49m\u001b[38;5;124;43mrb\u001b[39;49m\u001b[38;5;124;43m'\u001b[39;49m\u001b[43m)\u001b[49m \u001b[38;5;28;01mas\u001b[39;00m f:\n\u001b[0;32m      9\u001b[0m             \u001b[38;5;28mprint\u001b[39m(\u001b[38;5;124m\"\u001b[39m\u001b[38;5;124mFile opened successfully.\u001b[39m\u001b[38;5;124m\"\u001b[39m)\n\u001b[0;32m     10\u001b[0m     \u001b[38;5;28;01melse\u001b[39;00m:\n",
      "File \u001b[1;32m~\\AppData\\Local\\Packages\\PythonSoftwareFoundation.Python.3.11_qbz5n2kfra8p0\\LocalCache\\local-packages\\Python311\\site-packages\\IPython\\core\\interactiveshell.py:324\u001b[0m, in \u001b[0;36m_modified_open\u001b[1;34m(file, *args, **kwargs)\u001b[0m\n\u001b[0;32m    317\u001b[0m \u001b[38;5;28;01mif\u001b[39;00m file \u001b[38;5;129;01min\u001b[39;00m {\u001b[38;5;241m0\u001b[39m, \u001b[38;5;241m1\u001b[39m, \u001b[38;5;241m2\u001b[39m}:\n\u001b[0;32m    318\u001b[0m     \u001b[38;5;28;01mraise\u001b[39;00m \u001b[38;5;167;01mValueError\u001b[39;00m(\n\u001b[0;32m    319\u001b[0m         \u001b[38;5;124mf\u001b[39m\u001b[38;5;124m\"\u001b[39m\u001b[38;5;124mIPython won\u001b[39m\u001b[38;5;124m'\u001b[39m\u001b[38;5;124mt let you open fd=\u001b[39m\u001b[38;5;132;01m{\u001b[39;00mfile\u001b[38;5;132;01m}\u001b[39;00m\u001b[38;5;124m by default \u001b[39m\u001b[38;5;124m\"\u001b[39m\n\u001b[0;32m    320\u001b[0m         \u001b[38;5;124m\"\u001b[39m\u001b[38;5;124mas it is likely to crash IPython. If you know what you are doing, \u001b[39m\u001b[38;5;124m\"\u001b[39m\n\u001b[0;32m    321\u001b[0m         \u001b[38;5;124m\"\u001b[39m\u001b[38;5;124myou can use builtins\u001b[39m\u001b[38;5;124m'\u001b[39m\u001b[38;5;124m open.\u001b[39m\u001b[38;5;124m\"\u001b[39m\n\u001b[0;32m    322\u001b[0m     )\n\u001b[1;32m--> 324\u001b[0m \u001b[38;5;28;01mreturn\u001b[39;00m \u001b[43mio_open\u001b[49m\u001b[43m(\u001b[49m\u001b[43mfile\u001b[49m\u001b[43m,\u001b[49m\u001b[43m \u001b[49m\u001b[38;5;241;43m*\u001b[39;49m\u001b[43margs\u001b[49m\u001b[43m,\u001b[49m\u001b[43m \u001b[49m\u001b[38;5;241;43m*\u001b[39;49m\u001b[38;5;241;43m*\u001b[39;49m\u001b[43mkwargs\u001b[49m\u001b[43m)\u001b[49m\n",
      "\u001b[1;31mPermissionError\u001b[0m: [Errno 13] Permission denied: 'C:\\\\Users\\\\manas\\\\OneDrive\\\\Desktop\\\\student_resource 3\\\\src'"
     ]
    }
   ],
   "source": [
    "import os\n",
    "\n",
    "file_path = r'C:\\Users\\manas\\OneDrive\\Desktop\\student_resource 3\\src'\n",
    "\n",
    "try:\n",
    "    # Check if the file exists before opening it\n",
    "    if os.path.exists(file_path):\n",
    "        with open(file_path, 'rb') as f:\n",
    "            print(\"File opened successfully.\")\n",
    "    else:\n",
    "        print(\"File not found.\")\n",
    "except FileNotFoundError as e:\n",
    "    print(f\"Error: {e}\")\n"
   ]
  }
 ],
 "metadata": {
  "kernelspec": {
   "display_name": "Python 3",
   "language": "python",
   "name": "python3"
  },
  "language_info": {
   "codemirror_mode": {
    "name": "ipython",
    "version": 3
   },
   "file_extension": ".py",
   "mimetype": "text/x-python",
   "name": "python",
   "nbconvert_exporter": "python",
   "pygments_lexer": "ipython3",
   "version": "3.11.9"
  }
 },
 "nbformat": 4,
 "nbformat_minor": 2
}
