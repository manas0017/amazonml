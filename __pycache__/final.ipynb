{
 "cells": [
  {
   "cell_type": "code",
   "execution_count": 3,
   "metadata": {},
   "outputs": [],
   "source": [
    "from src.utils import download_images"
   ]
  },
  {
   "cell_type": "code",
   "execution_count": 4,
   "metadata": {},
   "outputs": [],
   "source": [
    "import pandas as pd\n",
    "df = pd.read_csv('train.csv')"
   ]
  },
  {
   "cell_type": "code",
   "execution_count": 5,
   "metadata": {},
   "outputs": [
    {
     "data": {
      "text/html": [
       "<div>\n",
       "<style scoped>\n",
       "    .dataframe tbody tr th:only-of-type {\n",
       "        vertical-align: middle;\n",
       "    }\n",
       "\n",
       "    .dataframe tbody tr th {\n",
       "        vertical-align: top;\n",
       "    }\n",
       "\n",
       "    .dataframe thead th {\n",
       "        text-align: right;\n",
       "    }\n",
       "</style>\n",
       "<table border=\"1\" class=\"dataframe\">\n",
       "  <thead>\n",
       "    <tr style=\"text-align: right;\">\n",
       "      <th></th>\n",
       "      <th>image_link</th>\n",
       "      <th>group_id</th>\n",
       "      <th>entity_name</th>\n",
       "      <th>entity_value</th>\n",
       "    </tr>\n",
       "  </thead>\n",
       "  <tbody>\n",
       "    <tr>\n",
       "      <th>7106</th>\n",
       "      <td>https://m.media-amazon.com/images/I/8139VF3tG9...</td>\n",
       "      <td>318770</td>\n",
       "      <td>wattage</td>\n",
       "      <td>240.0 watt</td>\n",
       "    </tr>\n",
       "    <tr>\n",
       "      <th>82935</th>\n",
       "      <td>https://m.media-amazon.com/images/I/818UfF6cw2...</td>\n",
       "      <td>558374</td>\n",
       "      <td>item_weight</td>\n",
       "      <td>100 gram</td>\n",
       "    </tr>\n",
       "    <tr>\n",
       "      <th>199353</th>\n",
       "      <td>https://m.media-amazon.com/images/I/51ujoCaA-z...</td>\n",
       "      <td>368364</td>\n",
       "      <td>depth</td>\n",
       "      <td>7.9 centimetre</td>\n",
       "    </tr>\n",
       "    <tr>\n",
       "      <th>3649</th>\n",
       "      <td>https://m.media-amazon.com/images/I/61uTo4TOXM...</td>\n",
       "      <td>179080</td>\n",
       "      <td>wattage</td>\n",
       "      <td>250.0 watt</td>\n",
       "    </tr>\n",
       "    <tr>\n",
       "      <th>216264</th>\n",
       "      <td>https://m.media-amazon.com/images/I/51p6z3hU+9...</td>\n",
       "      <td>347320</td>\n",
       "      <td>depth</td>\n",
       "      <td>16.0 inch</td>\n",
       "    </tr>\n",
       "    <tr>\n",
       "      <th>185265</th>\n",
       "      <td>https://m.media-amazon.com/images/I/517QGUmQpm...</td>\n",
       "      <td>119607</td>\n",
       "      <td>depth</td>\n",
       "      <td>30.0 millimetre</td>\n",
       "    </tr>\n",
       "    <tr>\n",
       "      <th>154197</th>\n",
       "      <td>https://m.media-amazon.com/images/I/51kjS9-Lfc...</td>\n",
       "      <td>752266</td>\n",
       "      <td>depth</td>\n",
       "      <td>14.0 centimetre</td>\n",
       "    </tr>\n",
       "    <tr>\n",
       "      <th>198490</th>\n",
       "      <td>https://m.media-amazon.com/images/I/51Mh3RMYrc...</td>\n",
       "      <td>300630</td>\n",
       "      <td>depth</td>\n",
       "      <td>22.2 centimetre</td>\n",
       "    </tr>\n",
       "    <tr>\n",
       "      <th>137914</th>\n",
       "      <td>https://m.media-amazon.com/images/I/61EDpvl6Py...</td>\n",
       "      <td>244283</td>\n",
       "      <td>height</td>\n",
       "      <td>14.0 inch</td>\n",
       "    </tr>\n",
       "    <tr>\n",
       "      <th>253962</th>\n",
       "      <td>https://m.media-amazon.com/images/I/51mRAHY6y1...</td>\n",
       "      <td>966823</td>\n",
       "      <td>height</td>\n",
       "      <td>14.0 centimetre</td>\n",
       "    </tr>\n",
       "  </tbody>\n",
       "</table>\n",
       "</div>"
      ],
      "text/plain": [
       "                                               image_link  group_id  \\\n",
       "7106    https://m.media-amazon.com/images/I/8139VF3tG9...    318770   \n",
       "82935   https://m.media-amazon.com/images/I/818UfF6cw2...    558374   \n",
       "199353  https://m.media-amazon.com/images/I/51ujoCaA-z...    368364   \n",
       "3649    https://m.media-amazon.com/images/I/61uTo4TOXM...    179080   \n",
       "216264  https://m.media-amazon.com/images/I/51p6z3hU+9...    347320   \n",
       "185265  https://m.media-amazon.com/images/I/517QGUmQpm...    119607   \n",
       "154197  https://m.media-amazon.com/images/I/51kjS9-Lfc...    752266   \n",
       "198490  https://m.media-amazon.com/images/I/51Mh3RMYrc...    300630   \n",
       "137914  https://m.media-amazon.com/images/I/61EDpvl6Py...    244283   \n",
       "253962  https://m.media-amazon.com/images/I/51mRAHY6y1...    966823   \n",
       "\n",
       "        entity_name     entity_value  \n",
       "7106        wattage       240.0 watt  \n",
       "82935   item_weight         100 gram  \n",
       "199353        depth   7.9 centimetre  \n",
       "3649        wattage       250.0 watt  \n",
       "216264        depth        16.0 inch  \n",
       "185265        depth  30.0 millimetre  \n",
       "154197        depth  14.0 centimetre  \n",
       "198490        depth  22.2 centimetre  \n",
       "137914       height        14.0 inch  \n",
       "253962       height  14.0 centimetre  "
      ]
     },
     "execution_count": 5,
     "metadata": {},
     "output_type": "execute_result"
    }
   ],
   "source": [
    "df_10 = df.sample(10)\n",
    "df_10"
   ]
  },
  {
   "cell_type": "code",
   "execution_count": 6,
   "metadata": {},
   "outputs": [],
   "source": [
    "images_links = df_10['image_link'].to_list()"
   ]
  },
  {
   "cell_type": "code",
   "execution_count": 7,
   "metadata": {},
   "outputs": [
    {
     "name": "stderr",
     "output_type": "stream",
     "text": [
      "Exception in thread Thread-5 (_handle_workers):\n",
      "Traceback (most recent call last):\n",
      "  File \"C:\\Program Files\\WindowsApps\\PythonSoftwareFoundation.Python.3.11_3.11.2544.0_x64__qbz5n2kfra8p0\\Lib\\threading.py\", line 1045, in _bootstrap_inner\n",
      "    self.run()\n",
      "  File \"C:\\Users\\manas\\AppData\\Local\\Packages\\PythonSoftwareFoundation.Python.3.11_qbz5n2kfra8p0\\LocalCache\\local-packages\\Python311\\site-packages\\ipykernel\\ipkernel.py\", line 766, in run_closure\n",
      "  0%|          | 0/10 [00:00<?, ?it/s]    _threading_Thread_run(self)\n",
      "  File \"C:\\Program Files\\WindowsApps\\PythonSoftwareFoundation.Python.3.11_3.11.2544.0_x64__qbz5n2kfra8p0\\Lib\\threading.py\", line 982, in run\n",
      "    self._target(*self._args, **self._kwargs)\n",
      "  File \"C:\\Program Files\\WindowsApps\\PythonSoftwareFoundation.Python.3.11_3.11.2544.0_x64__qbz5n2kfra8p0\\Lib\\multiprocessing\\pool.py\", line 522, in _handle_workers\n",
      "    cls._wait_for_updates(current_sentinels, change_notifier)\n",
      "  File \"C:\\Program Files\\WindowsApps\\PythonSoftwareFoundation.Python.3.11_3.11.2544.0_x64__qbz5n2kfra8p0\\Lib\\multiprocessing\\pool.py\", line 502, in _wait_for_updates\n",
      "    wait(sentinels, timeout=timeout)\n",
      "  File \"C:\\Program Files\\WindowsApps\\PythonSoftwareFoundation.Python.3.11_3.11.2544.0_x64__qbz5n2kfra8p0\\Lib\\multiprocessing\\connection.py\", line 896, in wait\n",
      "    ready_handles = _exhaustive_wait(waithandle_to_obj.keys(), timeout)\n",
      "                    ^^^^^^^^^^^^^^^^^^^^^^^^^^^^^^^^^^^^^^^^^^^^^^^^^^^\n",
      "  File \"C:\\Program Files\\WindowsApps\\PythonSoftwareFoundation.Python.3.11_3.11.2544.0_x64__qbz5n2kfra8p0\\Lib\\multiprocessing\\connection.py\", line 828, in _exhaustive_wait\n",
      "    res = _winapi.WaitForMultipleObjects(L, False, timeout)\n",
      "          ^^^^^^^^^^^^^^^^^^^^^^^^^^^^^^^^^^^^^^^^^^^^^^^^^\n",
      "ValueError: need at most 63 handles, got a sequence of length 66\n",
      "100%|██████████| 10/10 [00:04<00:00,  2.36it/s]\n"
     ]
    }
   ],
   "source": [
    "download_images(images_links, \"./sample_images\", True)"
   ]
  },
  {
   "cell_type": "code",
   "execution_count": 22,
   "metadata": {},
   "outputs": [
    {
     "ename": "NotADirectoryError",
     "evalue": "[WinError 267] The directory name is invalid: '81L5nXqWeLL.jpg'",
     "output_type": "error",
     "traceback": [
      "\u001b[1;31m---------------------------------------------------------------------------\u001b[0m",
      "\u001b[1;31mNotADirectoryError\u001b[0m                        Traceback (most recent call last)",
      "Cell \u001b[1;32mIn[22], line 23\u001b[0m\n\u001b[0;32m     21\u001b[0m \u001b[38;5;66;03m# Initialize an array to store the images\u001b[39;00m\n\u001b[0;32m     22\u001b[0m image_directory \u001b[38;5;241m=\u001b[39m \u001b[38;5;124m'\u001b[39m\u001b[38;5;124m81L5nXqWeLL.jpg\u001b[39m\u001b[38;5;124m'\u001b[39m  \u001b[38;5;66;03m# Correct directory path\u001b[39;00m\n\u001b[1;32m---> 23\u001b[0m image_paths \u001b[38;5;241m=\u001b[39m [os\u001b[38;5;241m.\u001b[39mpath\u001b[38;5;241m.\u001b[39mjoin(image_directory, filename) \u001b[38;5;28;01mfor\u001b[39;00m filename \u001b[38;5;129;01min\u001b[39;00m \u001b[43mos\u001b[49m\u001b[38;5;241;43m.\u001b[39;49m\u001b[43mlistdir\u001b[49m\u001b[43m(\u001b[49m\u001b[43mimage_directory\u001b[49m\u001b[43m)\u001b[49m \u001b[38;5;28;01mif\u001b[39;00m filename\u001b[38;5;241m.\u001b[39mendswith((\u001b[38;5;124m'\u001b[39m\u001b[38;5;124m.png\u001b[39m\u001b[38;5;124m'\u001b[39m, \u001b[38;5;124m'\u001b[39m\u001b[38;5;124m.jpg\u001b[39m\u001b[38;5;124m'\u001b[39m, \u001b[38;5;124m'\u001b[39m\u001b[38;5;124m.jpeg\u001b[39m\u001b[38;5;124m'\u001b[39m))]\n\u001b[0;32m     25\u001b[0m original_images \u001b[38;5;241m=\u001b[39m [cv2\u001b[38;5;241m.\u001b[39mimread(path) \u001b[38;5;28;01mfor\u001b[39;00m path \u001b[38;5;129;01min\u001b[39;00m image_paths \u001b[38;5;28;01mif\u001b[39;00m cv2\u001b[38;5;241m.\u001b[39mimread(path) \u001b[38;5;129;01mis\u001b[39;00m \u001b[38;5;129;01mnot\u001b[39;00m \u001b[38;5;28;01mNone\u001b[39;00m]\n\u001b[0;32m     26\u001b[0m original_images \u001b[38;5;241m=\u001b[39m [cv2\u001b[38;5;241m.\u001b[39mimread(path) \u001b[38;5;28;01mfor\u001b[39;00m path \u001b[38;5;129;01min\u001b[39;00m image_paths]\n",
      "\u001b[1;31mNotADirectoryError\u001b[0m: [WinError 267] The directory name is invalid: '81L5nXqWeLL.jpg'"
     ]
    }
   ],
   "source": [
    "import cv2\n",
    "import pytesseract\n",
    "import numpy as np\n",
    "import os\n",
    "import matplotlib.pyplot as plt\n",
    "\n",
    "# Function to display multiple images in a grid\n",
    "def display_images(images, title):\n",
    "    fig, axes = plt.subplots(2, 5, figsize=(15, 6))  # 2 rows, 5 columns\n",
    "    fig.suptitle(title, fontsize=16)\n",
    "    \n",
    "    for i, img in enumerate(images):\n",
    "        ax = axes[i // 5, i % 5]\n",
    "        ax.imshow(img, cmap='gray')\n",
    "        ax.axis('off')\n",
    "        ax.set_title(f'Image {i+1}')\n",
    "    \n",
    "    plt.tight_layout()\n",
    "    plt.show()\n",
    "\n",
    "# Initialize an array to store the images\n",
    "image_directory = '81L5nXqWeLL.jpg'  # Correct directory path\n",
    "image_paths = [os.path.join(image_directory, filename) for filename in os.listdir(image_directory) if filename.endswith(('.png', '.jpg', '.jpeg'))]\n",
    "\n",
    "original_images = [cv2.imread(path) for path in image_paths if cv2.imread(path) is not None]\n",
    "original_images = [cv2.imread(path) for path in image_paths]\n",
    "\n",
    "# Apply Otsu's binarization\n",
    "binary_images = [cv2.threshold(cv2.cvtColor(img, cv2.COLOR_BGR2GRAY), 0, 255, cv2.THRESH_BINARY + cv2.THRESH_OTSU)[1] for img in original_images]\n",
    "display_images(binary_images, \"Binarized Images (Otsu's)\")\n",
    "\n",
    "# 4. Noise removal using Median Blur and display\n",
    "denoised_images = [cv2.medianBlur(binary, 3) for binary in binary_images]\n",
    "display_images(denoised_images, \"Denoised Images (Median Blur)\")\n",
    "\n",
    "# 5. Dilation and display\n",
    "kernel = np.ones((1, 1), np.uint8)\n",
    "dilated_images = [cv2.dilate(denoised, kernel, iterations=1) for denoised in denoised_images]\n",
    "display_images(dilated_images, \"Dilated Images\")\n",
    "\n",
    "# 6. Erosion and display\n",
    "eroded_images = [cv2.erode(dilated, kernel, iterations=1) for dilated in dilated_images]\n",
    "display_images(eroded_images, \"Eroded Images\")\n",
    "\n",
    "# 7. Skew Correction (rotation) and display\n",
    "def correct_skew(image):\n",
    "    coords = np.column_stack(np.where(image > 0))\n",
    "    angle = cv2.minAreaRect(coords)[-1]\n",
    "    if angle < -45:\n",
    "        angle = -(90 + angle)\n",
    "    else:\n",
    "        angle = -angle\n",
    "    (h, w) = image.shape[:2]\n",
    "    center = (w // 2, h // 2)\n",
    "    M = cv2.getRotationMatrix2D(center, angle, 1.0)\n",
    "    rotated = cv2.warpAffine(image, M, (w, h), flags=cv2.INTER_CUBIC, borderMode=cv2.BORDER_REPLICATE)\n",
    "    return rotated\n",
    "\n",
    "skew_corrected_images = [correct_skew(eroded) for eroded in eroded_images]\n",
    "display_images(skew_corrected_images, \"Skew Corrected Images\")\n",
    "\n",
    "# 8. Resize images (increase size for better OCR performance)\n",
    "resized_images = [cv2.resize(image, None, fx=2, fy=2, interpolation=cv2.INTER_CUBIC) for image in skew_corrected_images]\n",
    "display_images(resized_images, \"Resized Images\")\n",
    "\n",
    "# 9. Invert colors for white text on black background (optional, based on image content)\n",
    "inverted_images = [cv2.bitwise_not(image) for image in resized_images]\n",
    "display_images(inverted_images, \"Inverted Images (Optional)\")\n",
    "\n",
    "# 10. OCR Processing on each preprocessed image\n",
    "ocr_results = []\n",
    "for img in inverted_images:\n",
    "    text = pytesseract.image_to_string(img)\n",
    "    ocr_results.append(text)\n",
    "\n",
    "# Output OCR results for each image\n",
    "for idx, text in enumerate(ocr_results):\n",
    "    print(f\"Text from image {idx+1}:\\n{text}\\n\")\n"
   ]
  },
  {
   "cell_type": "code",
   "execution_count": 6,
   "metadata": {},
   "outputs": [
    {
     "data": {
      "image/png": "[encoded data removed]",
      "text/plain": [
       "<Figure size 1500x600 with 10 Axes>"
      ]
     },
     "metadata": {},
     "output_type": "display_data"
    },
    {
     "data": {
      "image/png": "[encoded data removed]",
      "text/plain": [
       "<Figure size 1500x600 with 10 Axes>"
      ]
     },
     "metadata": {},
     "output_type": "display_data"
    }
   ],
   "source": [
    "import numpy as np\n",
    "import cv2\n",
    "\n",
    "# Example definition of correct_skew function\n",
    "def correct_skew(image):\n",
    "    # Your skew correction logic here\n",
    "    # This is just a placeholder example\n",
    "    return image\n",
    "\n",
    "eroded_images = [cv2.imread('41hriA7iZ+L.jpg', 0), cv2.imread('51lp9VNwRsL.jpg', 0)]\n",
    "\n",
    "# Ensure all images are NumPy arrays\n",
    "skew_corrected_images = [correct_skew(eroded) for eroded in eroded_images]\n",
    "skew_corrected_images = [np.array(image) for image in skew_corrected_images if isinstance(image, np.ndarray)]\n",
    "\n",
    "# Display skew corrected images\n",
    "display_images(skew_corrected_images, \"Skew Corrected Images\")\n",
    "\n",
    "# Resize images (increase size for better OCR performance)\n",
    "resized_images = [cv2.resize(image, None, fx=2, fy=2, interpolation=cv2.INTER_CUBIC) for image in skew_corrected_images]\n",
    "\n",
    "# Display resized images\n",
    "display_images(resized_images, \"Resized Images\")"
   ]
  },
  {
   "cell_type": "code",
   "execution_count": 12,
   "metadata": {},
   "outputs": [],
   "source": [
    "import pandas as pd\n",
    "import os"
   ]
  },
  {
   "cell_type": "code",
   "execution_count": 13,
   "metadata": {},
   "outputs": [],
   "source": [
    "df = pd.read_csv('train.csv')"
   ]
  },
  {
   "cell_type": "code",
   "execution_count": 18,
   "metadata": {},
   "outputs": [],
   "source": [
    "# Ensure the column 'image_name' exists\n",
    "if 'image_link' in df.columns:\n",
    "    filtered_df = df.loc[df['image_link'] == \"https://m.media-amazon.com/images/I/81L5nXqWeLL.jpg\"]\n",
    "else:\n",
    "    print(\"Column 'image_name' does not exist in the dataframe.\")\n"
   ]
  },
  {
   "cell_type": "code",
   "execution_count": 20,
   "metadata": {},
   "outputs": [
    {
     "ename": "SyntaxError",
     "evalue": "invalid syntax. Perhaps you forgot a comma? (2692662769.py, line 2)",
     "output_type": "error",
     "traceback": [
      "\u001b[1;36m  Cell \u001b[1;32mIn[20], line 2\u001b[1;36m\u001b[0m\n\u001b[1;33m    download_images([['image_link'][]], \".\",True)\u001b[0m\n\u001b[1;37m                     ^\u001b[0m\n\u001b[1;31mSyntaxError\u001b[0m\u001b[1;31m:\u001b[0m invalid syntax. Perhaps you forgot a comma?\n"
     ]
    }
   ],
   "source": [
    "filtered_df = df.loc[df['image_link'] == \"https://m.media-amazon.com/images/I/81L5nXqWeLL.jpg\"]\n",
    "download_images([['image_link'][]], \".\",True)"
   ]
  }
 ],
 "metadata": {
  "kernelspec": {
   "display_name": "Python 3",
   "language": "python",
   "name": "python3"
  },
  "language_info": {
   "codemirror_mode": {
    "name": "ipython",
    "version": 3
   },
   "file_extension": ".py",
   "mimetype": "text/x-python",
   "name": "python",
   "nbconvert_exporter": "python",
   "pygments_lexer": "ipython3",
   "version": "3.11.9"
  }
 },
 "nbformat": 4,
 "nbformat_minor": 2
}
